{
 "cells": [
  {
   "cell_type": "code",
   "execution_count": null,
   "metadata": {
    "colab": {
     "base_uri": "https://localhost:8080/"
    },
    "executionInfo": {
     "elapsed": 2143,
     "status": "ok",
     "timestamp": 1722643929169,
     "user": {
      "displayName": "Lucia Ganchozo Llano",
      "userId": "12047100876204249784"
     },
     "user_tz": -120
    },
    "id": "bhRK-o-4sVVr",
    "outputId": "0c86e6af-aa6f-4e6c-c234-915bdd91114a"
   },
   "outputs": [],
   "source": [
    "\"\"\"\n",
    "Setting for google colab\n",
    "\"\"\"\n",
    "# The path of your project on google drive\n",
    "path_project = \"/content/drive/MyDrive/cartography msc/Thesis TUM 2024/momepy/\"\n",
    "\n",
    "# Connect colab with google drive\n",
    "from google.colab import drive\n",
    "drive.mount('/content/drive')\n",
    "\n",
    "# Set the project path as current working directory\n",
    "import os\n",
    "os.chdir(path_project)\n",
    "print(\"Current files under the working directory:\", os.listdir())\n"
   ]
  },
  {
   "cell_type": "markdown",
   "metadata": {
    "id": "vVqFHJUCNtG0"
   },
   "source": [
    "# Imports"
   ]
  },
  {
   "cell_type": "code",
   "execution_count": 1,
   "metadata": {},
   "outputs": [
    {
     "ename": "ModuleNotFoundError",
     "evalue": "No module named 'favela_analysis'",
     "output_type": "error",
     "traceback": [
      "\u001b[1;31m---------------------------------------------------------------------------\u001b[0m",
      "\u001b[1;31mModuleNotFoundError\u001b[0m                       Traceback (most recent call last)",
      "Cell \u001b[1;32mIn[1], line 11\u001b[0m\n\u001b[0;32m      8\u001b[0m \u001b[38;5;66;03m# Adds include folder to find dependencies.py\u001b[39;00m\n\u001b[0;32m      9\u001b[0m sys\u001b[38;5;241m.\u001b[39mpath\u001b[38;5;241m.\u001b[39mappend(os\u001b[38;5;241m.\u001b[39mpath\u001b[38;5;241m.\u001b[39mjoin(project_root, \u001b[38;5;124m\"\u001b[39m\u001b[38;5;124minclude\u001b[39m\u001b[38;5;124m\"\u001b[39m))\n\u001b[1;32m---> 11\u001b[0m \u001b[38;5;28;01mimport\u001b[39;00m \u001b[38;5;21;01mdependencies\u001b[39;00m\n",
      "File \u001b[1;32mc:\\Users\\miles\\favela_analysis\\include\\dependencies.py:30\u001b[0m\n\u001b[0;32m     27\u001b[0m \u001b[38;5;28;01mfrom\u001b[39;00m \u001b[38;5;21;01mshapely\u001b[39;00m\u001b[38;5;21;01m.\u001b[39;00m\u001b[38;5;21;01mgeometry\u001b[39;00m \u001b[38;5;28;01mimport\u001b[39;00m Point\n\u001b[0;32m     29\u001b[0m \u001b[38;5;66;03m# Custom Packages\u001b[39;00m\n\u001b[1;32m---> 30\u001b[0m \u001b[38;5;28;01mfrom\u001b[39;00m \u001b[38;5;21;01mfavela_analysis\u001b[39;00m\u001b[38;5;21;01m.\u001b[39;00m\u001b[38;5;21;01msrc\u001b[39;00m \u001b[38;5;28;01mimport\u001b[39;00m \u001b[38;5;241m*\u001b[39m\n",
      "\u001b[1;31mModuleNotFoundError\u001b[0m: No module named 'favela_analysis'"
     ]
    }
   ],
   "source": [
    "import os\n",
    "import sys\n",
    "\n",
    "# Adds project root to sys.path\n",
    "project_root = os.path.abspath(os.path.join(os.getcwd(), \"..\"))\n",
    "sys.path.append(project_root)\n",
    "\n",
    "# Adds include folder to find dependencies.py\n",
    "sys.path.append(os.path.join(project_root, \"include\"))\n",
    "\n",
    "import dependencies\n"
   ]
  },
  {
   "cell_type": "code",
   "execution_count": null,
   "metadata": {
    "colab": {
     "base_uri": "https://localhost:8080/"
    },
    "executionInfo": {
     "elapsed": 54309,
     "status": "ok",
     "timestamp": 1722643983476,
     "user": {
      "displayName": "Lucia Ganchozo Llano",
      "userId": "12047100876204249784"
     },
     "user_tz": -120
    },
    "id": "l_H69sFerrR3",
    "outputId": "feb4001b-da97-44d6-8a3a-facd7c5c5566",
    "scrolled": true
   },
   "outputs": [],
   "source": [
    "!pip install momepy\n",
    "!pip install osmnx\n",
    "!pip install PyDrive\n",
    "!pip install clustergram\n",
    "!pip install folium matplotlib mapclassify\n",
    "!pip install shapely\n",
    "!pip install matplotlib-scalebar\n",
    "!pip install basemap\n",
    "!pip install bokeh\n",
    "!pip install seaborn\n",
    "!pip install libpysal\n",
    "\n",
    "import pandas as pd\n",
    "import geopandas as gpd\n",
    "import networkx as nx\n",
    "import numpy as np\n",
    "import momepy as mm\n",
    "import momepy\n",
    "import pyproj\n",
    "import osmnx as ox\n",
    "import libpysal\n",
    "from shapely.geometry import box\n",
    "from time import time\n",
    "from clustergram import Clustergram\n",
    "import matplotlib.pyplot as plt\n",
    "from matplotlib.patches import Patch\n",
    "from matplotlib_scalebar.scalebar import ScaleBar\n",
    "from mpl_toolkits.basemap import Basemap\n",
    "from bokeh.io import output_notebook\n",
    "from bokeh.plotting import show\n",
    "from scipy.spatial.distance import euclidean\n",
    "from sklearn.metrics import confusion_matrix\n",
    "from sklearn.metrics import accuracy_score, classification_report\n",
    "import seaborn as sns\n",
    "from libpysal import graph\n",
    "\n",
    "from shapely import LineString\n",
    "from shapely.geometry import Point\n"
   ]
  },
  {
   "cell_type": "markdown",
   "metadata": {
    "id": "MSp9kV6JcDwb"
   },
   "source": [
    "# Getting Data Locally (update to support collab or other more shareable/cloud based service)"
   ]
  },
  {
   "cell_type": "code",
   "execution_count": null,
   "metadata": {},
   "outputs": [],
   "source": [
    "import sys\n",
    "sys.path.append(r\"C:\\Users\\miles\\favela_analysis\\src\")\n",
    "from buffer_regions import process_building_shapefile\n",
    "\n",
    "save_outputs_to = r\"C:\\Users\\miles\\favela_analysis\\output\\morro_da_guaiba\"\n",
    "site_to_study = r\"C:\\Users\\miles\\favela_analysis\\site_shps\\morro_da_guaiba.shp\"\n",
    "site_name = \"morro_da_guaiba\"\n"
   ]
  },
  {
   "cell_type": "code",
   "execution_count": null,
   "metadata": {},
   "outputs": [],
   "source": [
    "from tessellation import perform_perfect_tessellation, print_perfect_tessellation_report\n",
    "\n",
    "# \"C:\\Users\\miles\\OneDrive\\Desktop\\school\\UROP\\Data\\best_test_set.shp\"\n",
    "\n",
    "try:\n",
    "    buildings_path = site_to_study #DATA SOURCE GOES HERE\n",
    "    clean_buildings, tessellation, excluded_buildings, report = perform_perfect_tessellation(\n",
    "        buildings_path,\n",
    "        min_area=1.0,\n",
    "        buffer_dist=100,\n",
    "        max_iterations=10\n",
    "    )\n",
    "\n",
    "    print_perfect_tessellation_report(report)\n",
    "\n",
    "except Exception as e:\n",
    "    print(f\"Error: {str(e)}\")\n"
   ]
  },
  {
   "cell_type": "code",
   "execution_count": null,
   "metadata": {},
   "outputs": [],
   "source": [
    "#classes\n",
    "from building_metrics_calculator import BuildingMetricsCalculator\n",
    "from building_metrics_plotter import BuildingMetricsPlotter\n",
    "\n",
    "output_dir = r\"C:\\Users\\miles\\favela_analysis\\output\"\n",
    "\n",
    "# Initialize calculator and run calculations\n",
    "calculator = BuildingMetricsCalculator(clean_buildings, tessellation, output_dir) #BuildingMetricsCalculator Class\n",
    "calculator.run_all_calculations()\n"
   ]
  },
  {
   "cell_type": "code",
   "execution_count": null,
   "metadata": {},
   "outputs": [],
   "source": [
    "f, ax = plt.subplots(figsize=(10, 10))\n",
    "tessellation.plot(ax=ax, edgecolor='white', linewidth=0.5, facecolor='blue', alpha=.7)\n",
    "clean_buildings.plot(ax=ax, color='white', alpha=.7)\n",
    "plt.title('Tessellation out of OSM building footprints')\n",
    "ax.set_axis_off()\n",
    "plt.show()\n"
   ]
  },
  {
   "cell_type": "markdown",
   "metadata": {
    "id": "dW32JRS5V7W_"
   },
   "source": [
    "# Spatial Joint MM and TP"
   ]
  },
  {
   "cell_type": "code",
   "execution_count": null,
   "metadata": {},
   "outputs": [],
   "source": [
    "clean_buildings = clean_buildings.join(tessellation, rsuffix='_tessellation')\n",
    "clean_buildings = clean_buildings.set_geometry(\"geometry\")\n"
   ]
  },
  {
   "cell_type": "markdown",
   "metadata": {
    "id": "2PnQSQdyketh"
   },
   "source": [
    "# GROUND TRUTH DATA"
   ]
  },
  {
   "cell_type": "code",
   "execution_count": null,
   "metadata": {},
   "outputs": [],
   "source": [
    "from ground_truth import classify_and_analyze_favelas\n",
    "\n",
    "try:\n",
    "    classified_buildings, analysis = classify_and_analyze_favelas(\n",
    "        clean_buildings,\n",
    "        type_column='nome_count'\n",
    "    )\n",
    "\n",
    "    ground_truth_gdf = classified_buildings\n",
    "\n",
    "    # merge buildings\n",
    "    clean_buildings['label'] = classified_buildings['label']\n",
    "\n",
    "    plt.show()\n",
    "\n",
    "except Exception as e:\n",
    "    print(f\"Error during classification analysis: {str(e)}\")\n"
   ]
  },
  {
   "cell_type": "markdown",
   "metadata": {
    "id": "InwdhgANyJQw"
   },
   "source": [
    "# XG Boost Classification"
   ]
  },
  {
   "cell_type": "code",
   "execution_count": null,
   "metadata": {},
   "outputs": [],
   "source": [
    "from xg_boost_calculator import run_xgboost, save_xgboost_results\n",
    "\n",
    "results = run_xgboost(ground_truth_gdf)\n",
    "\n",
    "# save results\n",
    "save_xgboost_results(results, save_outputs_to, site_name)\n",
    "\n",
    "ground_truth_gdf = results['updated_gdf']\n",
    "metrics = results['metrics']\n",
    "xgb_model = results['model']\n",
    "X_imputed = results['X_imputed']\n",
    "X = results['X']\n",
    "X_train = results['X_train']\n",
    "\n",
    "print(results['classification_report'])\n"
   ]
  },
  {
   "cell_type": "markdown",
   "metadata": {},
   "source": [
    "## SHAP Calculations\n"
   ]
  },
  {
   "cell_type": "code",
   "execution_count": null,
   "metadata": {},
   "outputs": [],
   "source": [
    "from shap_calculator import calculate_shap_results, save_shap_results\n",
    "\n",
    "shap_results_dict = calculate_shap_results(xgb_model, X_imputed, metrics, ground_truth_gdf)\n",
    "\n",
    "save_shap_results(shap_results_dict, save_outputs_to, site_name)\n"
   ]
  },
  {
   "cell_type": "code",
   "execution_count": null,
   "metadata": {},
   "outputs": [],
   "source": [
    "shap_values = shap_results_dict['shap_values']\n"
   ]
  },
  {
   "cell_type": "code",
   "execution_count": null,
   "metadata": {},
   "outputs": [],
   "source": [
    "import xgboost as xgb\n",
    "import matplotlib.pyplot as pl\n",
    "\n",
    "xgb.plot_importance(xgb_model)\n",
    "pl.title(\"Feature Importance (Default: Weight)\")\n",
    "pl.show()\n"
   ]
  },
  {
   "cell_type": "code",
   "execution_count": null,
   "metadata": {},
   "outputs": [],
   "source": [
    "xgb.plot_importance(xgb_model, importance_type=\"cover\")\n",
    "pl.title('Feature Importance by Cover')\n",
    "pl.show()\n"
   ]
  },
  {
   "cell_type": "code",
   "execution_count": null,
   "metadata": {},
   "outputs": [],
   "source": [
    "xgb.plot_importance(xgb_model, importance_type=\"gain\")\n",
    "pl.title('Feature Importance by Gain')\n",
    "pl.show()\n"
   ]
  },
  {
   "cell_type": "code",
   "execution_count": null,
   "metadata": {},
   "outputs": [],
   "source": [
    "import shap\n",
    "\n",
    "shap.initjs()\n",
    "# 1. SHAP Force Plot for Many Predictions\n",
    "# Visualize predictions for the first 1000 buildings\n",
    "X_display = pd.DataFrame(X_imputed, columns=X.columns)  # Ensure proper column names for SHAP\n",
    "\n",
    "shap.force_plot(\n",
    "    explainer.expected_value,  # Use scalar directly\n",
    "    shap_values.values[:1000, :],\n",
    "    X_display.iloc[:1000, :]\n",
    ")\n"
   ]
  },
  {
   "cell_type": "code",
   "execution_count": null,
   "metadata": {},
   "outputs": [],
   "source": [
    "import shap\n",
    "# 2. SHAP Bar Chart of Mean Importance\n",
    "# Plot the mean SHAP values as a bar chart\n",
    "shap.summary_plot(shap_values.values, X_display, plot_type=\"bar\")\n",
    "plt.show()\n",
    "\n"
   ]
  },
  {
   "cell_type": "code",
   "execution_count": null,
   "metadata": {},
   "outputs": [],
   "source": [
    "# 3. SHAP Summary Plot (Density Scatter Plot)\n",
    "# Plot the density scatter plot for SHAP values\n",
    "shap.summary_plot(shap_values.values, X_display)\n",
    "plt.show()\n",
    "\n"
   ]
  },
  {
   "cell_type": "code",
   "execution_count": null,
   "metadata": {},
   "outputs": [],
   "source": [
    "# Create SHAP dependence plots for each feature in X_train\n",
    "# for name in X_train.columns:\n",
    "#     shap.dependence_plot(name, shap_values.values, X_imputed, display_features=X_display)\n",
    "\n",
    "for name in X_train.columns:\n",
    "    shap.dependence_plot(name, shap_values, X_imputed, display_features=X_display)\n"
   ]
  },
  {
   "cell_type": "code",
   "execution_count": null,
   "metadata": {},
   "outputs": [],
   "source": [
    "from sklearn.decomposition import PCA\n",
    "from sklearn.manifold import TSNE\n",
    "\n",
    "shap_pca50 = PCA(n_components=12).fit_transform(shap_values.values[:1000, :])\n",
    "shap_embedded = TSNE(n_components=2, perplexity=50).fit_transform(shap_values.values[:1000, :])\n"
   ]
  },
  {
   "cell_type": "code",
   "execution_count": null,
   "metadata": {},
   "outputs": [],
   "source": [
    "from matplotlib.colors import LinearSegmentedColormap\n",
    "\n",
    "cdict1 = {\n",
    "    \"red\": (\n",
    "        (0.0, 0.11764705882352941, 0.11764705882352941),\n",
    "        (1.0, 0.9607843137254902, 0.9607843137254902),\n",
    "    ),\n",
    "    \"green\": (\n",
    "        (0.0, 0.5333333333333333, 0.5333333333333333),\n",
    "        (1.0, 0.15294117647058825, 0.15294117647058825),\n",
    "    ),\n",
    "    \"blue\": (\n",
    "        (0.0, 0.8980392156862745, 0.8980392156862745),\n",
    "        (1.0, 0.3411764705882353, 0.3411764705882353),\n",
    "    ),\n",
    "    \"alpha\": ((0.0, 1, 1), (0.5, 1, 1), (1.0, 1, 1)),\n",
    "}  # #1E88E5 -> #ff0052\n",
    "red_blue_solid = LinearSegmentedColormap(\"RedBlue\", cdict1)\n"
   ]
  },
  {
   "cell_type": "code",
   "execution_count": null,
   "metadata": {},
   "outputs": [],
   "source": [
    "import numpy as np\n",
    "\n",
    "f = pl.figure(figsize=(5, 5))\n",
    "pl.scatter(\n",
    "    shap_embedded[:, 0],\n",
    "    shap_embedded[:, 1],\n",
    "    c=shap_values.values[:1000, :].sum(1).astype(np.float64),  # Use .values here\n",
    "    linewidth=0,\n",
    "    alpha=1.0,\n",
    "    cmap=red_blue_solid,\n",
    ")\n",
    "cb = pl.colorbar(label=\"Favela vs Not Favela\", aspect=40, orientation=\"horizontal\")\n",
    "cb.set_alpha(1)\n",
    "cb.outline.set_linewidth(0)\n",
    "cb.ax.tick_params(\"x\", length=0)\n",
    "cb.ax.xaxis.set_label_position(\"top\")\n",
    "pl.gca().axis(\"off\")\n",
    "pl.show()\n"
   ]
  },
  {
   "cell_type": "code",
   "execution_count": null,
   "metadata": {
    "scrolled": true
   },
   "outputs": [],
   "source": [
    "for feature in ['area', 'perimeter', 'lal', 'neighbour_dist',\n",
    "           'mean_interbuilding_distance', 'adjacency', 'corners', 'shape_idx',\n",
    "           'facade_ratio', 'compact_weighted_axis', 'circular_com',\n",
    "           'squareness', 'square_compact', 'rectangularity', 'rect_idx',\n",
    "           'perimeter_wall', 'num_neighbors',\n",
    "           'elongation', 'fractal', 'cwa', 'CAR', 'tes_area', 'shared_walls']:\n",
    "    f = pl.figure(figsize=(5, 5))\n",
    "    pl.scatter(\n",
    "        shap_embedded[:, 0],\n",
    "        shap_embedded[:, 1],\n",
    "        c=X[feature].values[:1000].astype(np.float64),\n",
    "        linewidth=0,\n",
    "        alpha=1.0,\n",
    "        cmap=red_blue_solid,\n",
    "    )\n",
    "    cb = pl.colorbar(label=feature, aspect=40, orientation=\"horizontal\")\n",
    "    cb.set_alpha(1)\n",
    "    cb.outline.set_linewidth(0)\n",
    "    cb.ax.tick_params(\"x\", length=0)\n",
    "    cb.ax.xaxis.set_label_position(\"top\")\n",
    "    pl.gca().axis(\"off\")\n",
    "    pl.show()\n"
   ]
  },
  {
   "cell_type": "code",
   "execution_count": null,
   "metadata": {
    "colab": {
     "base_uri": "https://localhost:8080/",
     "height": 967
    },
    "executionInfo": {
     "elapsed": 3662,
     "status": "ok",
     "timestamp": 1722645319282,
     "user": {
      "displayName": "Lucia Ganchozo Llano",
      "userId": "12047100876204249784"
     },
     "user_tz": -120
    },
    "id": "KgOhZ_gh4pv_",
    "outputId": "5975992e-ff90-4c2a-fe96-e99f729b2152"
   },
   "outputs": [],
   "source": [
    "# Plot the classified buildings\n",
    "fig, ax = plt.subplots(1, 1, figsize=(12, 12))\n",
    "gdf.plot(column='label', cmap='coolwarm', alpha=0.7, legend=True, ax=ax,\n",
    "         legend_kwds={'loc': 'lower right', 'title': \"Predicted Labels\"})\n",
    "\n",
    "scalebar = ScaleBar(1, location='lower left', pad=1, box_alpha=0.5)\n",
    "ax.add_artist(scalebar)\n",
    "\n",
    "# Add north arrow\n",
    "x, y, arrow_length = 0.04, 1, 0.08\n",
    "ax.annotate('N', xy=(x, y), xytext=(x, y-arrow_length),\n",
    "            arrowprops=dict(facecolor='black', headwidth=15, headlength=20, width=5),\n",
    "            ha='center', va='center', fontsize=15,\n",
    "            xycoords=ax.transAxes)\n",
    "\n",
    "# Add resource text\n",
    "plt.text(0.5, 0.02, 'Data source: OpenStreetMap', horizontalalignment='center',\n",
    "         verticalalignment='center', transform=ax.transAxes, fontsize=7)\n",
    "\n",
    "plt.title('Buildings TS Classification using UMMs - Nova Cidade')\n",
    "ax.set_axis_off()\n",
    "plt.show()\n"
   ]
  }
 ],
 "metadata": {
  "colab": {
   "provenance": [
    {
     "file_id": "1LlHaDMi6ztHQm6P7MhENHp0L2barmI0Z",
     "timestamp": 1720561007206
    },
    {
     "file_id": "1hcos2fUairNYlUhM4JmUSmqNu7cn_JeM",
     "timestamp": 1720552697885
    },
    {
     "file_id": "1RW4hekahNagLsdx16t5h3xRWJyyMcU0x",
     "timestamp": 1720550905095
    },
    {
     "file_id": "1R_zzppwxKonLeebPOjL8Apz0rCkFxPBL",
     "timestamp": 1719523911597
    },
    {
     "file_id": "16EgIqT1Wgz5FC3UJt4E0rz0584vrDzhv",
     "timestamp": 1719300358399
    },
    {
     "file_id": "1ARtIzCR0kPsHHENWSRQsIqCfHJu_4tik",
     "timestamp": 1719150705249
    },
    {
     "file_id": "1e3c0_jqcMFyQ10cgP2OOPzRPHomj07w-",
     "timestamp": 1718566660029
    },
    {
     "file_id": "1kcpvUUHYKg9htxlJtz1YU3-L5hhijLtz",
     "timestamp": 1714754629416
    },
    {
     "file_id": "1iui0gvzXTS5_abkZ4ByRacaTEvYlRJcj",
     "timestamp": 1714413829563
    },
    {
     "file_id": "19k5jEJs_nJ51rsmpQYFTBOyqEUgaaAnM",
     "timestamp": 1714235065898
    }
   ]
  },
  "kernelspec": {
   "display_name": "Python 3",
   "language": "python",
   "name": "python3"
  },
  "language_info": {
   "codemirror_mode": {
    "name": "ipython",
    "version": 3
   },
   "file_extension": ".py",
   "mimetype": "text/x-python",
   "name": "python",
   "nbconvert_exporter": "python",
   "pygments_lexer": "ipython3",
   "version": "3.12.5"
  },
  "widgets": {
   "application/vnd.jupyter.widget-state+json": {
    "034670a1895c4b45ac9a9fa5750d9fac": {
     "model_module": "@jupyter-widgets/controls",
     "model_module_version": "1.5.0",
     "model_name": "FloatProgressModel",
     "state": {
      "_dom_classes": [],
      "_model_module": "@jupyter-widgets/controls",
      "_model_module_version": "1.5.0",
      "_model_name": "FloatProgressModel",
      "_view_count": null,
      "_view_module": "@jupyter-widgets/controls",
      "_view_module_version": "1.5.0",
      "_view_name": "ProgressView",
      "bar_style": "success",
      "description": "",
      "description_tooltip": null,
      "layout": "IPY_MODEL_8e4f3bd9540e436bb7fa008ce7144dd9",
      "max": 10698,
      "min": 0,
      "orientation": "horizontal",
      "style": "IPY_MODEL_3791f7e373c444cba4e6bfb7e01af6d8",
      "value": 10698
     }
    },
    "0c3db590a4c64c028737f437b257498f": {
     "model_module": "@jupyter-widgets/base",
     "model_module_version": "1.2.0",
     "model_name": "LayoutModel",
     "state": {
      "_model_module": "@jupyter-widgets/base",
      "_model_module_version": "1.2.0",
      "_model_name": "LayoutModel",
      "_view_count": null,
      "_view_module": "@jupyter-widgets/base",
      "_view_module_version": "1.2.0",
      "_view_name": "LayoutView",
      "align_content": null,
      "align_items": null,
      "align_self": null,
      "border": null,
      "bottom": null,
      "display": null,
      "flex": null,
      "flex_flow": null,
      "grid_area": null,
      "grid_auto_columns": null,
      "grid_auto_flow": null,
      "grid_auto_rows": null,
      "grid_column": null,
      "grid_gap": null,
      "grid_row": null,
      "grid_template_areas": null,
      "grid_template_columns": null,
      "grid_template_rows": null,
      "height": null,
      "justify_content": null,
      "justify_items": null,
      "left": null,
      "margin": null,
      "max_height": null,
      "max_width": null,
      "min_height": null,
      "min_width": null,
      "object_fit": null,
      "object_position": null,
      "order": null,
      "overflow": null,
      "overflow_x": null,
      "overflow_y": null,
      "padding": null,
      "right": null,
      "top": null,
      "visibility": null,
      "width": null
     }
    },
    "0ff37e680cab4577ae8cb9f3b019781e": {
     "model_module": "@jupyter-widgets/controls",
     "model_module_version": "1.5.0",
     "model_name": "FloatProgressModel",
     "state": {
      "_dom_classes": [],
      "_model_module": "@jupyter-widgets/controls",
      "_model_module_version": "1.5.0",
      "_model_name": "FloatProgressModel",
      "_view_count": null,
      "_view_module": "@jupyter-widgets/controls",
      "_view_module_version": "1.5.0",
      "_view_name": "ProgressView",
      "bar_style": "success",
      "description": "",
      "description_tooltip": null,
      "layout": "IPY_MODEL_d416c28bff5b4ed7a5cec7901b160dac",
      "max": 10709,
      "min": 0,
      "orientation": "horizontal",
      "style": "IPY_MODEL_827ec1aff9d84a128fce13564fc409fc",
      "value": 10709
     }
    },
    "130246e3f3f849b0b26d0d13f0fa9cf3": {
     "model_module": "@jupyter-widgets/controls",
     "model_module_version": "1.5.0",
     "model_name": "HBoxModel",
     "state": {
      "_dom_classes": [],
      "_model_module": "@jupyter-widgets/controls",
      "_model_module_version": "1.5.0",
      "_model_name": "HBoxModel",
      "_view_count": null,
      "_view_module": "@jupyter-widgets/controls",
      "_view_module_version": "1.5.0",
      "_view_name": "HBoxView",
      "box_style": "",
      "children": [
       "IPY_MODEL_16c0c923f9ed42369c4281df0650c88f",
       "IPY_MODEL_034670a1895c4b45ac9a9fa5750d9fac",
       "IPY_MODEL_cfcd2209a7824cea8711e96b4a09a9cf"
      ],
      "layout": "IPY_MODEL_7ae87376ae56416ab82067080e025699"
     }
    },
    "16c0c923f9ed42369c4281df0650c88f": {
     "model_module": "@jupyter-widgets/controls",
     "model_module_version": "1.5.0",
     "model_name": "HTMLModel",
     "state": {
      "_dom_classes": [],
      "_model_module": "@jupyter-widgets/controls",
      "_model_module_version": "1.5.0",
      "_model_name": "HTMLModel",
      "_view_count": null,
      "_view_module": "@jupyter-widgets/controls",
      "_view_module_version": "1.5.0",
      "_view_name": "HTMLView",
      "description": "",
      "description_tooltip": null,
      "layout": "IPY_MODEL_62cc6fcba7e642cc9943b428f2821414",
      "placeholder": "​",
      "style": "IPY_MODEL_53dceb232aad48d7bc5e4980040a150b",
      "value": "100%"
     }
    },
    "1b01f5ce7ad340dc8ca97b5f85ba6ab5": {
     "model_module": "@jupyter-widgets/controls",
     "model_module_version": "1.5.0",
     "model_name": "HTMLModel",
     "state": {
      "_dom_classes": [],
      "_model_module": "@jupyter-widgets/controls",
      "_model_module_version": "1.5.0",
      "_model_name": "HTMLModel",
      "_view_count": null,
      "_view_module": "@jupyter-widgets/controls",
      "_view_module_version": "1.5.0",
      "_view_name": "HTMLView",
      "description": "",
      "description_tooltip": null,
      "layout": "IPY_MODEL_e39eea010c74423f99b85085b069cb80",
      "placeholder": "​",
      "style": "IPY_MODEL_cb368682231944d48a754d684469690d",
      "value": " 10709/10709 [00:08&lt;00:00, 1306.79it/s]"
     }
    },
    "245595e572a845e491bc89a61fa459d6": {
     "model_module": "@jupyter-widgets/base",
     "model_module_version": "1.2.0",
     "model_name": "LayoutModel",
     "state": {
      "_model_module": "@jupyter-widgets/base",
      "_model_module_version": "1.2.0",
      "_model_name": "LayoutModel",
      "_view_count": null,
      "_view_module": "@jupyter-widgets/base",
      "_view_module_version": "1.2.0",
      "_view_name": "LayoutView",
      "align_content": null,
      "align_items": null,
      "align_self": null,
      "border": null,
      "bottom": null,
      "display": null,
      "flex": null,
      "flex_flow": null,
      "grid_area": null,
      "grid_auto_columns": null,
      "grid_auto_flow": null,
      "grid_auto_rows": null,
      "grid_column": null,
      "grid_gap": null,
      "grid_row": null,
      "grid_template_areas": null,
      "grid_template_columns": null,
      "grid_template_rows": null,
      "height": null,
      "justify_content": null,
      "justify_items": null,
      "left": null,
      "margin": null,
      "max_height": null,
      "max_width": null,
      "min_height": null,
      "min_width": null,
      "object_fit": null,
      "object_position": null,
      "order": null,
      "overflow": null,
      "overflow_x": null,
      "overflow_y": null,
      "padding": null,
      "right": null,
      "top": null,
      "visibility": null,
      "width": null
     }
    },
    "3791f7e373c444cba4e6bfb7e01af6d8": {
     "model_module": "@jupyter-widgets/controls",
     "model_module_version": "1.5.0",
     "model_name": "ProgressStyleModel",
     "state": {
      "_model_module": "@jupyter-widgets/controls",
      "_model_module_version": "1.5.0",
      "_model_name": "ProgressStyleModel",
      "_view_count": null,
      "_view_module": "@jupyter-widgets/base",
      "_view_module_version": "1.2.0",
      "_view_name": "StyleView",
      "bar_color": null,
      "description_width": ""
     }
    },
    "53dceb232aad48d7bc5e4980040a150b": {
     "model_module": "@jupyter-widgets/controls",
     "model_module_version": "1.5.0",
     "model_name": "DescriptionStyleModel",
     "state": {
      "_model_module": "@jupyter-widgets/controls",
      "_model_module_version": "1.5.0",
      "_model_name": "DescriptionStyleModel",
      "_view_count": null,
      "_view_module": "@jupyter-widgets/base",
      "_view_module_version": "1.2.0",
      "_view_name": "StyleView",
      "description_width": ""
     }
    },
    "59d806b79e004f6ea0c5dde3b71fa68b": {
     "model_module": "@jupyter-widgets/controls",
     "model_module_version": "1.5.0",
     "model_name": "HBoxModel",
     "state": {
      "_dom_classes": [],
      "_model_module": "@jupyter-widgets/controls",
      "_model_module_version": "1.5.0",
      "_model_name": "HBoxModel",
      "_view_count": null,
      "_view_module": "@jupyter-widgets/controls",
      "_view_module_version": "1.5.0",
      "_view_name": "HBoxView",
      "box_style": "",
      "children": [
       "IPY_MODEL_9caf4529e5f34c96aa196b789c46f452",
       "IPY_MODEL_0ff37e680cab4577ae8cb9f3b019781e",
       "IPY_MODEL_1b01f5ce7ad340dc8ca97b5f85ba6ab5"
      ],
      "layout": "IPY_MODEL_0c3db590a4c64c028737f437b257498f"
     }
    },
    "62cc6fcba7e642cc9943b428f2821414": {
     "model_module": "@jupyter-widgets/base",
     "model_module_version": "1.2.0",
     "model_name": "LayoutModel",
     "state": {
      "_model_module": "@jupyter-widgets/base",
      "_model_module_version": "1.2.0",
      "_model_name": "LayoutModel",
      "_view_count": null,
      "_view_module": "@jupyter-widgets/base",
      "_view_module_version": "1.2.0",
      "_view_name": "LayoutView",
      "align_content": null,
      "align_items": null,
      "align_self": null,
      "border": null,
      "bottom": null,
      "display": null,
      "flex": null,
      "flex_flow": null,
      "grid_area": null,
      "grid_auto_columns": null,
      "grid_auto_flow": null,
      "grid_auto_rows": null,
      "grid_column": null,
      "grid_gap": null,
      "grid_row": null,
      "grid_template_areas": null,
      "grid_template_columns": null,
      "grid_template_rows": null,
      "height": null,
      "justify_content": null,
      "justify_items": null,
      "left": null,
      "margin": null,
      "max_height": null,
      "max_width": null,
      "min_height": null,
      "min_width": null,
      "object_fit": null,
      "object_position": null,
      "order": null,
      "overflow": null,
      "overflow_x": null,
      "overflow_y": null,
      "padding": null,
      "right": null,
      "top": null,
      "visibility": null,
      "width": null
     }
    },
    "7ae87376ae56416ab82067080e025699": {
     "model_module": "@jupyter-widgets/base",
     "model_module_version": "1.2.0",
     "model_name": "LayoutModel",
     "state": {
      "_model_module": "@jupyter-widgets/base",
      "_model_module_version": "1.2.0",
      "_model_name": "LayoutModel",
      "_view_count": null,
      "_view_module": "@jupyter-widgets/base",
      "_view_module_version": "1.2.0",
      "_view_name": "LayoutView",
      "align_content": null,
      "align_items": null,
      "align_self": null,
      "border": null,
      "bottom": null,
      "display": null,
      "flex": null,
      "flex_flow": null,
      "grid_area": null,
      "grid_auto_columns": null,
      "grid_auto_flow": null,
      "grid_auto_rows": null,
      "grid_column": null,
      "grid_gap": null,
      "grid_row": null,
      "grid_template_areas": null,
      "grid_template_columns": null,
      "grid_template_rows": null,
      "height": null,
      "justify_content": null,
      "justify_items": null,
      "left": null,
      "margin": null,
      "max_height": null,
      "max_width": null,
      "min_height": null,
      "min_width": null,
      "object_fit": null,
      "object_position": null,
      "order": null,
      "overflow": null,
      "overflow_x": null,
      "overflow_y": null,
      "padding": null,
      "right": null,
      "top": null,
      "visibility": null,
      "width": null
     }
    },
    "827ec1aff9d84a128fce13564fc409fc": {
     "model_module": "@jupyter-widgets/controls",
     "model_module_version": "1.5.0",
     "model_name": "ProgressStyleModel",
     "state": {
      "_model_module": "@jupyter-widgets/controls",
      "_model_module_version": "1.5.0",
      "_model_name": "ProgressStyleModel",
      "_view_count": null,
      "_view_module": "@jupyter-widgets/base",
      "_view_module_version": "1.2.0",
      "_view_name": "StyleView",
      "bar_color": null,
      "description_width": ""
     }
    },
    "8ddd5fb6b4c34b8dba9a5baff8270053": {
     "model_module": "@jupyter-widgets/base",
     "model_module_version": "1.2.0",
     "model_name": "LayoutModel",
     "state": {
      "_model_module": "@jupyter-widgets/base",
      "_model_module_version": "1.2.0",
      "_model_name": "LayoutModel",
      "_view_count": null,
      "_view_module": "@jupyter-widgets/base",
      "_view_module_version": "1.2.0",
      "_view_name": "LayoutView",
      "align_content": null,
      "align_items": null,
      "align_self": null,
      "border": null,
      "bottom": null,
      "display": null,
      "flex": null,
      "flex_flow": null,
      "grid_area": null,
      "grid_auto_columns": null,
      "grid_auto_flow": null,
      "grid_auto_rows": null,
      "grid_column": null,
      "grid_gap": null,
      "grid_row": null,
      "grid_template_areas": null,
      "grid_template_columns": null,
      "grid_template_rows": null,
      "height": null,
      "justify_content": null,
      "justify_items": null,
      "left": null,
      "margin": null,
      "max_height": null,
      "max_width": null,
      "min_height": null,
      "min_width": null,
      "object_fit": null,
      "object_position": null,
      "order": null,
      "overflow": null,
      "overflow_x": null,
      "overflow_y": null,
      "padding": null,
      "right": null,
      "top": null,
      "visibility": null,
      "width": null
     }
    },
    "8e4f3bd9540e436bb7fa008ce7144dd9": {
     "model_module": "@jupyter-widgets/base",
     "model_module_version": "1.2.0",
     "model_name": "LayoutModel",
     "state": {
      "_model_module": "@jupyter-widgets/base",
      "_model_module_version": "1.2.0",
      "_model_name": "LayoutModel",
      "_view_count": null,
      "_view_module": "@jupyter-widgets/base",
      "_view_module_version": "1.2.0",
      "_view_name": "LayoutView",
      "align_content": null,
      "align_items": null,
      "align_self": null,
      "border": null,
      "bottom": null,
      "display": null,
      "flex": null,
      "flex_flow": null,
      "grid_area": null,
      "grid_auto_columns": null,
      "grid_auto_flow": null,
      "grid_auto_rows": null,
      "grid_column": null,
      "grid_gap": null,
      "grid_row": null,
      "grid_template_areas": null,
      "grid_template_columns": null,
      "grid_template_rows": null,
      "height": null,
      "justify_content": null,
      "justify_items": null,
      "left": null,
      "margin": null,
      "max_height": null,
      "max_width": null,
      "min_height": null,
      "min_width": null,
      "object_fit": null,
      "object_position": null,
      "order": null,
      "overflow": null,
      "overflow_x": null,
      "overflow_y": null,
      "padding": null,
      "right": null,
      "top": null,
      "visibility": null,
      "width": null
     }
    },
    "9b3c208d4b0d48aabf28f16cef666a75": {
     "model_module": "@jupyter-widgets/controls",
     "model_module_version": "1.5.0",
     "model_name": "DescriptionStyleModel",
     "state": {
      "_model_module": "@jupyter-widgets/controls",
      "_model_module_version": "1.5.0",
      "_model_name": "DescriptionStyleModel",
      "_view_count": null,
      "_view_module": "@jupyter-widgets/base",
      "_view_module_version": "1.2.0",
      "_view_name": "StyleView",
      "description_width": ""
     }
    },
    "9caf4529e5f34c96aa196b789c46f452": {
     "model_module": "@jupyter-widgets/controls",
     "model_module_version": "1.5.0",
     "model_name": "HTMLModel",
     "state": {
      "_dom_classes": [],
      "_model_module": "@jupyter-widgets/controls",
      "_model_module_version": "1.5.0",
      "_model_name": "HTMLModel",
      "_view_count": null,
      "_view_module": "@jupyter-widgets/controls",
      "_view_module_version": "1.5.0",
      "_view_name": "HTMLView",
      "description": "",
      "description_tooltip": null,
      "layout": "IPY_MODEL_245595e572a845e491bc89a61fa459d6",
      "placeholder": "​",
      "style": "IPY_MODEL_9b3c208d4b0d48aabf28f16cef666a75",
      "value": "100%"
     }
    },
    "a90e18e91e1d4c66b2926acdff35bc7a": {
     "model_module": "@jupyter-widgets/controls",
     "model_module_version": "1.5.0",
     "model_name": "DescriptionStyleModel",
     "state": {
      "_model_module": "@jupyter-widgets/controls",
      "_model_module_version": "1.5.0",
      "_model_name": "DescriptionStyleModel",
      "_view_count": null,
      "_view_module": "@jupyter-widgets/base",
      "_view_module_version": "1.2.0",
      "_view_name": "StyleView",
      "description_width": ""
     }
    },
    "cb368682231944d48a754d684469690d": {
     "model_module": "@jupyter-widgets/controls",
     "model_module_version": "1.5.0",
     "model_name": "DescriptionStyleModel",
     "state": {
      "_model_module": "@jupyter-widgets/controls",
      "_model_module_version": "1.5.0",
      "_model_name": "DescriptionStyleModel",
      "_view_count": null,
      "_view_module": "@jupyter-widgets/base",
      "_view_module_version": "1.2.0",
      "_view_name": "StyleView",
      "description_width": ""
     }
    },
    "cfcd2209a7824cea8711e96b4a09a9cf": {
     "model_module": "@jupyter-widgets/controls",
     "model_module_version": "1.5.0",
     "model_name": "HTMLModel",
     "state": {
      "_dom_classes": [],
      "_model_module": "@jupyter-widgets/controls",
      "_model_module_version": "1.5.0",
      "_model_name": "HTMLModel",
      "_view_count": null,
      "_view_module": "@jupyter-widgets/controls",
      "_view_module_version": "1.5.0",
      "_view_name": "HTMLView",
      "description": "",
      "description_tooltip": null,
      "layout": "IPY_MODEL_8ddd5fb6b4c34b8dba9a5baff8270053",
      "placeholder": "​",
      "style": "IPY_MODEL_a90e18e91e1d4c66b2926acdff35bc7a",
      "value": " 10698/10698 [00:18&lt;00:00, 719.43it/s]"
     }
    },
    "d416c28bff5b4ed7a5cec7901b160dac": {
     "model_module": "@jupyter-widgets/base",
     "model_module_version": "1.2.0",
     "model_name": "LayoutModel",
     "state": {
      "_model_module": "@jupyter-widgets/base",
      "_model_module_version": "1.2.0",
      "_model_name": "LayoutModel",
      "_view_count": null,
      "_view_module": "@jupyter-widgets/base",
      "_view_module_version": "1.2.0",
      "_view_name": "LayoutView",
      "align_content": null,
      "align_items": null,
      "align_self": null,
      "border": null,
      "bottom": null,
      "display": null,
      "flex": null,
      "flex_flow": null,
      "grid_area": null,
      "grid_auto_columns": null,
      "grid_auto_flow": null,
      "grid_auto_rows": null,
      "grid_column": null,
      "grid_gap": null,
      "grid_row": null,
      "grid_template_areas": null,
      "grid_template_columns": null,
      "grid_template_rows": null,
      "height": null,
      "justify_content": null,
      "justify_items": null,
      "left": null,
      "margin": null,
      "max_height": null,
      "max_width": null,
      "min_height": null,
      "min_width": null,
      "object_fit": null,
      "object_position": null,
      "order": null,
      "overflow": null,
      "overflow_x": null,
      "overflow_y": null,
      "padding": null,
      "right": null,
      "top": null,
      "visibility": null,
      "width": null
     }
    },
    "e39eea010c74423f99b85085b069cb80": {
     "model_module": "@jupyter-widgets/base",
     "model_module_version": "1.2.0",
     "model_name": "LayoutModel",
     "state": {
      "_model_module": "@jupyter-widgets/base",
      "_model_module_version": "1.2.0",
      "_model_name": "LayoutModel",
      "_view_count": null,
      "_view_module": "@jupyter-widgets/base",
      "_view_module_version": "1.2.0",
      "_view_name": "LayoutView",
      "align_content": null,
      "align_items": null,
      "align_self": null,
      "border": null,
      "bottom": null,
      "display": null,
      "flex": null,
      "flex_flow": null,
      "grid_area": null,
      "grid_auto_columns": null,
      "grid_auto_flow": null,
      "grid_auto_rows": null,
      "grid_column": null,
      "grid_gap": null,
      "grid_row": null,
      "grid_template_areas": null,
      "grid_template_columns": null,
      "grid_template_rows": null,
      "height": null,
      "justify_content": null,
      "justify_items": null,
      "left": null,
      "margin": null,
      "max_height": null,
      "max_width": null,
      "min_height": null,
      "min_width": null,
      "object_fit": null,
      "object_position": null,
      "order": null,
      "overflow": null,
      "overflow_x": null,
      "overflow_y": null,
      "padding": null,
      "right": null,
      "top": null,
      "visibility": null,
      "width": null
     }
    }
   }
  }
 },
 "nbformat": 4,
 "nbformat_minor": 4
}
