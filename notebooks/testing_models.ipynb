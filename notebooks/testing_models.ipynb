{
 "cells": [
  {
   "cell_type": "code",
   "execution_count": 1,
   "metadata": {},
   "outputs": [],
   "source": [
    "from xgboost import XGBClassifier\n",
    "from sklearn.metrics import classification_report, accuracy_score\n",
    "from sklearn.preprocessing import LabelEncoder\n",
    "import pickle\n",
    "import numpy as np\n",
    "\n",
    "#load xgb model\n",
    "xgb_model = XGBClassifier()\n",
    "xgb_model.load_model(r\"C:\\Users\\miles\\favela_analysis\\output\\faz_quem_quer\\faz_quem_quer_xgb_model.json\")\n"
   ]
  },
  {
   "cell_type": "code",
   "execution_count": 2,
   "metadata": {},
   "outputs": [],
   "source": [
    "# reconstruct label_encoder\n",
    "loaded_classes = np.load(r\"C:\\Users\\miles\\favela_analysis\\output\\faz_quem_quer\\faz_quem_quer_label_encoder_classes.npy\")\n",
    "\n",
    "# Recreate the LabelEncoder and assign the loaded classes_\n",
    "label_encoder = LabelEncoder()\n",
    "label_encoder.classes_ = loaded_classes  # For correct class mapping\n"
   ]
  },
  {
   "cell_type": "code",
   "execution_count": 5,
   "metadata": {},
   "outputs": [],
   "source": [
    "# load neccessary data\n",
    "with open(r\"C:\\Users\\miles\\favela_analysis\\output\\morro_da_guaiba\\morro_da_guaiba_X_test.pkl\", \"rb\") as f:\n",
    "    X_test = pickle.load(f)\n",
    "\n",
    "y_test = np.load(r\"C:\\Users\\miles\\favela_analysis\\output\\morro_da_guaiba\\morro_da_guaiba_y_test.npy\")\n"
   ]
  },
  {
   "cell_type": "code",
   "execution_count": 6,
   "metadata": {},
   "outputs": [
    {
     "name": "stdout",
     "output_type": "stream",
     "text": [
      "Accuracy:  62.35997012696042\n",
      "{'favela': {'precision': 0.6763990267639902, 'recall': 0.8881789137380192, 'f1-score': 0.7679558011049724, 'support': 939.0}, 'not-favela': {'precision': 0.009433962264150943, 'recall': 0.0025, 'f1-score': 0.003952569169960474, 'support': 400.0}, 'accuracy': 0.6235997012696042, 'macro avg': {'precision': 0.3429164945140706, 'recall': 0.44533945686900955, 'f1-score': 0.38595418513746643, 'support': 1339.0}, 'weighted avg': {'precision': 0.47715628904932583, 'recall': 0.6235997012696042, 'f1-score': 0.5397248132229674, 'support': 1339.0}}\n"
     ]
    }
   ],
   "source": [
    "y_pred = xgb_model.predict(X_test)\n",
    "\n",
    "accuracy = accuracy_score(y_test, y_pred) * 100\n",
    "class_report_dict = classification_report(y_test, y_pred, target_names=label_encoder.classes_, output_dict=True)\n",
    "\n",
    "print(\"Accuracy: \", accuracy)\n",
    "print(class_report_dict)\n"
   ]
  }
 ],
 "metadata": {
  "kernelspec": {
   "display_name": "Python 3",
   "language": "python",
   "name": "python3"
  },
  "language_info": {
   "codemirror_mode": {
    "name": "ipython",
    "version": 3
   },
   "file_extension": ".py",
   "mimetype": "text/x-python",
   "name": "python",
   "nbconvert_exporter": "python",
   "pygments_lexer": "ipython3",
   "version": "3.12.5"
  }
 },
 "nbformat": 4,
 "nbformat_minor": 2
}
